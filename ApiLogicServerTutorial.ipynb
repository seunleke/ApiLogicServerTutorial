{
 "cells": [
  {
   "cell_type": "markdown",
   "metadata": {
    "pycharm": {
     "name": "#%% md\n"
    }
   },
   "source": [
    "# Orientation\n",
    "\n",
    "In this 10 minute tutorial, we'll **create**, **explore** and **customize** the 3 main elements of an API Logic Server:\n",
    "1. A JSON:**API** for a database\n",
    "1. Business **Logic**\n",
    "1. A Basic Web App"
   ]
  },
  {
   "cell_type": "markdown",
   "metadata": {
    "pycharm": {
     "name": "#%% md\n"
    }
   },
   "source": [
    "## Configure Workspace\n",
    "\n",
    "You are in a [JupyterLab Notebook](https://jupyterlab.readthedocs.io/en/stable/).  It's a UI for a combination of markdown text and code, installed in a docker container deployed to the cloud, courtesy of MyBinder.  What will they think of next.\n",
    "\n",
    "Installation has already been completed for both\n",
    "[Python](https://github.com/valhuber/ApiLogicServer/wiki/Python-Verify-and-Install) and [ApiLogicServer](https://github.com/valhuber/ApiLogicServer#installation).\n",
    "ApiLogicServer installs with a [Northwind sample database](Sample-Database), which we'll be using in this Tutorial.\n",
    "\n",
    "Arrange your workspace:\n",
    "\n",
    "1. Open the Notebook\n",
    "1. **File > New** to open 2 **Terminal** windows\n",
    "   * **Drag** them to arrange your workspace as shown below\n",
    "2. Click the icon on the left panel to view the **Table of Contents**\n",
    "   * It should appear as shown below\n",
    "4. When you're ready, **advance:**\n",
    "   * Scroll down, or click the down arrow, or select a section at left.\n",
    "   * You can click the blue bar to the left to **hide** a section\n",
    "\n",
    "<figure><img src=\"https://github.com/valhuber/ApiLogicServer/blob/main/images/tutorial/notebook-workspace.png?raw=true\"></figure>\n",
    "\n",
    "If you are considering Jupyter notebooks for your own no-install demos,  you can explore how this demo was built on [GitHub](https://github.com/valhuber/ApiLogicServerTutorial)."
   ]
  },
  {
   "cell_type": "markdown",
   "metadata": {
    "pycharm": {
     "name": "#%% md\n"
    }
   },
   "source": [
    "# Create ApiLogicServer\n",
    "In this step, we'll use the **ApiLogicServer CLI** to create and run an **api_logic_server project** (an **API** and **Web App**, backed by underlying **Logic**):\n",
    "<figure><img src=\"https://github.com/valhuber/ApiLogicServer/blob/main/images/123-run.png?raw=true\"></figure>\n",
    "\n",
    "To create the ApiLogicServer\n",
    "1. In the left Terminal window, run the ApiLogicServer CLI:\n",
    "\n",
    "```bash\n",
    "ApiLogicServer run\n",
    "```\n",
    "\n",
    "2. Accept the default `db_url` parameter to use the supplied [sample database](../../wiki/Sample-Database).  Later, specify a [SQLAlchemy url](https://docs.sqlalchemy.org/en/14/core/engines.html)\n",
    "to use your own database.\n",
    "\n",
    "> **Key Takeaway:** With that 1 command, you have just created...\n",
    "> * an API for every table in the database\n",
    "> * logic that enforces integrity on updates, and\n",
    "> * a basic web app.\n",
    "\n",
    "> Let's explore them."
   ]
  },
  {
   "cell_type": "markdown",
   "metadata": {
    "pycharm": {
     "name": "#%% md\n"
    }
   },
   "source": [
    "# 1. Explore the API\n",
    "\n",
    "In many projects, User Interface development is blocked by waiting on API creation.\n",
    "\n",
    "The ```run``` command not only _created_ the project, but it _ran_ ```python api_logic_server/api_logic_server_run.py``` to start the server.  Let's explore it.\n",
    "\n",
    "> **Key Takeaway:** ApiLogicServer unblocks UI development with instant API creation."
   ]
  },
  {
   "cell_type": "markdown",
   "metadata": {
    "pycharm": {
     "name": "#%% md\n"
    }
   },
   "source": [
    "## Open API (Swagger)\n",
    "\n",
    "Your API can be explored with Open API (Swagger).\n",
    "If running locally, you can explore the api at [https://localhost:5000](https://localhost:5000), and:\n",
    "1. Click **Customer**\n",
    "2. Click **Get**\n",
    "3. Click **Try it out**\n",
    "4. Click **Execute**\n",
    "\n",
    "> **Under Investigation:** we are exploring using [proxy](https://discourse.jupyter.org/t/how-to-redirect-in-repo2docker-jupyter-server-proxy-mybinder-containers/5209), but not working.  You need to be running locally to see this screen:\n",
    "\n",
    "<figure><img src=\"https://github.com/valhuber/ApiLogicServer/raw/main/images/tutorial/explore-api.png\"></figure>\n"
   ]
  },
  {
   "cell_type": "markdown",
   "metadata": {
    "pycharm": {
     "name": "#%% md\n"
    }
   },
   "source": [
    "## Get\n",
    "\n",
    "In addition to Open API, we can use curl; paste this into the right terminal window:\n",
    "```\n",
    "curl -X GET \"http://localhost:5000/Order\\\n",
    "?include=\\\n",
    "&fields%5BOrder%5D=Id%2CCustomerId%2CEmployeeId%2COrderDate%2CAmountTotal\\\n",
    "&page%5Boffset%5D=0\\\n",
    "&page%5Blimit%5D=2\\\n",
    "&sort=Id%2CCustomerId%2CEmployeeId\\\n",
    "&filter%5BCustomerId%5D=ALFKI\"\\\n",
    " -H  \"accept: application/vnd.api+json\" \\\n",
    " -H  \"Content-Type: application/vnd.api+json\"\n",
    "```\n",
    "Observe:\n",
    "* `page offset` - pagination support\n",
    "* `fields` - with JSON:API, clients can control their API.  That's important, since it can reduce network traffic instead of requiring calls on multiple APIs that don't return quite the correct data.\n",
    "\n",
    "Let's explore some additional aspects of the API."
   ]
  },
  {
   "cell_type": "markdown",
   "metadata": {
    "pycharm": {
     "name": "#%% md\n"
    }
   },
   "source": [
    "### Include Joins\n",
    "JSON:API also enables client to control retrieval of related data.  Let's add `include':\n",
    "```\n",
    "curl -X GET \"http://localhost:5000/Order\\\n",
    "?include=OrderDetailList\\\n",
    "&fields%5BOrder%5D=Id%2CCustomerId%2CEmployeeId%2COrderDate%2CAmountTotal\\\n",
    "&page%5Boffset%5D=0\\\n",
    "&page%5Blimit%5D=2\\\n",
    "&sort=Id%2CCustomerId%2CEmployeeId\\\n",
    "&filter%5BCustomerId%5D=ALFKI\"\\\n",
    " -H  \"accept: application/vnd.api+json\" \\\n",
    " -H  \"Content-Type: application/vnd.api+json\"\n",
    "```\n",
    "\n",
    "### Filtering, Pagination\n",
    "You can also explore support for these required services, including filtering.\n"
   ]
  },
  {
   "cell_type": "markdown",
   "metadata": {
    "pycharm": {
     "name": "#%% md\n"
    }
   },
   "source": [
    "## Patch: Logic Enabled Updates\n",
    "Your API also includes services for insert, update and delete. We can use curl to test the update \n",
    "```bash\n",
    "curl -vX PATCH \"http://localhost:5000/Customer/ALFKI/\" -H  \"accept: application/vnd.api+json\" -H  \"Content-Type: application/json\"  -d '\n",
    "{\n",
    "  \"data\": {\n",
    "     \"attributes\": {\n",
    "        \"CreditLimit\": \"100\"\n",
    "     },\n",
    "  \"type\": \"Customer\",\n",
    "  \"id\": \"ALFKI\"\n",
    "}}'\n",
    "```\n",
    "\n",
    "This update request violates our predefined rules so it will return an error, \"`balance (1016.0000000000) exceeds credit (100)`\" :\n",
    "```json\n",
    "{\n",
    "    \"errors\": [\n",
    "        {\n",
    "            \"title\": \"balance (1016.0000000000) exceeds credit (100)\",\n",
    "            \"detail\": {\n",
    "                \"model\": \"Customer\",\n",
    "                \"error_attributes\": []\n",
    "            },\n",
    "            \"code\": 2001\n",
    "        }\n",
    "    ]\n",
    "}\n",
    "```\n",
    "\n",
    "This was entirely intentional, as described below."
   ]
  },
  {
   "cell_type": "markdown",
   "metadata": {
    "pycharm": {
     "name": "#%% md\n"
    }
   },
   "source": [
    "# 2. Explore Logic\n",
    "Transaction logic - multi-table derivations, constraints,\n",
    "and actions such as sending mail or messages - is a significant\n",
    "aspect of any database oriented system, as much as half.\n",
    "\n",
    "> Logic is the iceberg under the surface of the API."
   ]
  },
  {
   "cell_type": "markdown",
   "metadata": {
    "pycharm": {
     "name": "#%% md\n"
    }
   },
   "source": [
    "## Cocktail Napkin Explosion\n",
    "\n",
    "It is striking how a small \"cocktail napkin specification\" can balloon into\n",
    "hundreds of lines of code:\n",
    "\n",
    "<figure><img src=\"https://github.com/valhuber/LogicBank/raw/main/images/overview/rules-vs-code.png\"></figure>\n",
    "\n",
    "> Implementing logic by conventional *procedural code is slow, error prone, and painful to maintain.*"
   ]
  },
  {
   "cell_type": "markdown",
   "metadata": {
    "pycharm": {
     "name": "#%% md\n"
    }
   },
   "source": [
    "## Logic is _Declarative_\n",
    "\n",
    "Api Logic Server dramatically improves conciseness, quality and maintainability, by introducing a signicant innovation for addressing transaction logic: **Logic Bank**.  This approach is based on two things:\n",
    "\n",
    "* **Rules - 40X** more concise using a declarative, spreadsheet-like paradigm, and\n",
    "\n",
    "* **Python - control and extensibility,** using standard tools and techniques\n",
    "\n",
    "Let's pause a moment to consider: *what is 40X more concise?*\n",
    "\n",
    "> A jetliner flies *4X* the speed of Charles Lindbergh's Spirit of St. Louis.  This is 10X more - for nearly half your system, you are writing a rule instead of nearly a page of code. See the [contrast here](https://github.com/valhuber/LogicBank/wiki/by-code).\n",
    "    \n",
    "\n",
    "**Note:** in this tutorial, the API and Web App were created strictly from the data model.\n",
    "The logic, however, is injected so you can explore it.\n",
    "\n",
    "Rules are _not_ simply procedural event handlers.  They are spreadsheet-like expressions for\n",
    "constraints and derivations applied on update.  The \"cocktail napkin spec\" above is implemented\n",
    "in ```logic/logic_bank.py```, by declaring just 5 rules that are simply rigorous expressions\n",
    "of the spec:\n",
    "\n",
    "<figure><img src=\"https://github.com/valhuber/ApiLogicServer/raw/main/images/tutorial/declare-logic.png\"></figure>\n",
    "\n",
    "This table summarizes the **key declarative / procedural differences:**\n",
    "\n",
    "| Characteristic | Procedural   | Declarative  | Why It Matters |\n",
    "| :-------------: |:-------------:| :-----:| :-----:|\n",
    "| Reuse     | Not Automatic | Automatic - all Use Cases | 40X Code Reduction |\n",
    "| Invocation | Passive - only if called | Active - call not required | Quality |\n",
    "| Ordering | Manual | Automatic | Agile Maintenance |\n",
    "| Optimizations      | Manual     |   Automatic | Agile Design |\n",
    "\n",
    "Unlike code, you do not call the rules directly.\n",
    "The rules engine in Logic Bank listens for SQLAlchemy ```before_flush``` events,\n",
    "and applies the applicable rules in an order that reflects their dependencies.  For more\n",
    "information on rules, see the [Logic Bank Overview](https://github.com/valhuber/LogicBank/wiki).\n",
    "\n",
    "The constraint rule (line 52) is what caused the update error response above -\n",
    "the ```Balance``` exceeded the altered ```CreditLimit```.  The transaction is rolled back."
   ]
  },
  {
   "cell_type": "markdown",
   "metadata": {
    "pycharm": {
     "name": "#%% md\n"
    }
   },
   "source": [
    "## _Automatic_ Re-use\n",
    "Let's examine the re-use aspect.  In traditional procedural coding, re-use is generally achieved with significant design work.  But in this declarative approach, logic is _automatically **re-used**_ for all transactions.  That has a significant impact on conciseness, and quality.\n",
    "\n",
    "Let's see how our logic processes a PATCH to an Order Detail:\n",
    "\n",
    "```\n",
    "curl -X PATCH \"http://localhost:5000/OrderDetail/2156/\" \\\n",
    "  -H  \"accept: application/vnd.api+json\" \\\n",
    "  -H  \"Content-Type: application/json\" \\\n",
    "  -d '\n",
    "{\n",
    "  \"data\":{\n",
    "    \"attributes\": {\"Quantity\": 10},\n",
    "    \"type\": \"OrderDetail\",\n",
    "    \"id\": \"2156\"  \n",
    "  }\n",
    "}'\n",
    "```\n",
    "\n",
    "The rule engine generates a\n",
    "[*log*](https://github.com/valhuber/LogicBank/wiki#debugging-standard-debugger-logic-logging)\n",
    "showing each rule that fires, the state of the row, with indenting to show rule chaining.  It's in your Terminal console, but easier to see in an editor with disabled Word Wrap:\n",
    "\n",
    "1. Choose the Folder icon on the toolbar to the left\n",
    "2. Open the file `ApiLogicServerTutorial/Log - Patch Order Detail.txt`\n",
    "3. From the view menu, disable Word Wrap\n",
    "\n",
    "The rules automated a multi-table rollup transaction:\n",
    "* recompute the Order Detail ```Amount``` per the _formula_ rule (line 60)\n",
    "* adjust the Order ```AmountTotal``` (line 58)\n",
    "* adjust the Customer ```Balance``` (line 55)\n",
    "* and check the ```CreditLimit```\n",
    "\n",
    "> **Key Takeaway:** Logic is 40X more concise, higher quality, and easier to maintain"
   ]
  },
  {
   "cell_type": "markdown",
   "metadata": {
    "pycharm": {
     "name": "#%% md\n"
    }
   },
   "source": [
    "# 3. Explore the Basic Web App\n",
    "\n",
    "UI development takes time.  That's a problem since\n",
    "* Such effort may not be warranted for admin \"back office\" screens,\n",
    "and\n",
    "  \n",
    "* [Agile approaches](https://agilemanifesto.org) depend on getting _working\n",
    "software_ soon, to drive _collaboration and iteration_.\n",
    "\n",
    "ApiLogicServer CLI therefore creates working software _now:_\n",
    "multi-page, multi-table applications as shown below:\n",
    "\n",
    "1. **Multi-page:** apps include 1 page per table\n",
    "\n",
    "2. **Multi-table:** pages include ``related_views`` for each related child table, and join in parent data\n",
    "\n",
    "3. **Favorite fields first:** first-displayed field is \"name\", or `contains` \"name\" (configurable)\n",
    "\n",
    "4. **Predictive joins:** favorite field of each parent is shown (product *name* - not product *id*)\n",
    "\n",
    "5. **Ids last:** such boring fields are not shown on lists, and at the end on other pages\n",
    "\n",
    "<figure><img src=\"https://raw.githubusercontent.com/valhuber/fab-quick-start/master/images/generated-page.png\"></figure>\n",
    "\n",
    "To run the application:\n",
    "```\n",
    "cd ApiLogicServer/api_logic_server\n",
    "python ui/basic_web_app/run.py\n",
    "```\n",
    "\n",
    "> Before running, you must [Create Admin Data](Working-with-Flask-AppBuilder) for Flask App Builder (except for Northwind, which is pre-created)."
   ]
  },
  {
   "cell_type": "markdown",
   "metadata": {
    "pycharm": {
     "name": "#%% md\n"
    }
   },
   "source": [
    "# Customize With Python\n",
    "\n",
    "Recall using API Logic Server CLI:\n",
    "```\n",
    "ApiLogicServer run\n",
    "```\n",
    "This createed a complete, executable ApiLogicServer in a directory called ```api_logic_server```.  On your own machine, you could open the project in an IDE (PyCharm, VSCode, etc) or an Editor (Atom, Text Wrangler, etc).  It looks like this in PyCharm:\n",
    "\n",
    "<figure><img src=\"https://github.com/valhuber/ApiLogicServer/blob/main/images/generated-project.png?raw=true\"></figure>\n",
    "\n",
    "As noted in the log (in blue, above), ApiLogicServer CLI introspected your database and created a `database/models.py` file (for SQLAlchemy), and files that declare your `api` and `ui/basic-web-app`.  You can edit those files to customize your server, as described below."
   ]
  },
  {
   "cell_type": "markdown",
   "metadata": {
    "pycharm": {
     "name": "#%% md\n"
    }
   },
   "source": [
    "## Customize API\n",
    "Your API is derived from the database, but it is not restricted to that.  You can customize your API, e.g., add new endpoints.\n",
    "\n",
    "For example - an instant API for a database is all well and good - but can we build the \"hello world\" so desperately sought by enterprises all over the world?  We can.\n",
    "\n",
    "Examine the following code in `api_logic_server/api_logic_server_run.py`:\n",
    "\n",
    "```python\n",
    "@app.route('/hello_world')\n",
    "def hello_world():  # test it with: http://localhost:5000/hello_world?user=ApiLogicServer\n",
    "    \"\"\"\n",
    "    This is inserted to illustrate that APIs not limited to database objects, but are extensible.\n",
    "\n",
    "    See: https://github.com/thomaxxl/safrs/wiki/Customization\n",
    "    \"\"\"\n",
    "    user = request.args.get('user')\n",
    "    return jsonify({\"result\": f'hello, {user}'})\n",
    "```"
   ]
  },
  {
   "cell_type": "markdown",
   "metadata": {
    "pycharm": {
     "name": "#%% md\n"
    }
   },
   "source": [
    "## Customize Logic\n",
    "\n",
    "**Alert:** fails per issue 10.  Under investigation.\n",
    "\n",
    "A common pattern is auditing - if certain attributes are changed, copy the altered row to an audit table.  Let's alter an Employees salary:\n",
    "```\n",
    "curl -X PATCH \"http://localhost:5000/Employee/1/\"\\\n",
    "  -H  \"accept: application/vnd.api+json\"\\\n",
    "  -H  \"Content-Type: application/json\"\\\n",
    "  -d \"{  \\\"data\\\": {\\\n",
    "        \\\"attributes\\\": {\\\n",
    "            \\\"Salary\\\": \\\"2000000\\\"    },\\\n",
    "  \\\"type\\\": \\\"Employee\\\",\\\n",
    "  \\\"id\\\": \\\"1\\\"  }}\"\n",
    "```\n",
    "\n",
    "This is implemented in ```logic/rules_bank.py```:\n",
    "```python\n",
    "    def audit_by_event(row: models.Employee, old_row: models.Employee, logic_row: LogicRow):\n",
    "        tedious = False  # tedious code to repeat for every audited class\n",
    "        if tedious:      # see instead the following rule extension - nw_copy_row\n",
    "            if logic_row.are_attributes_changed([models.Employee.Salary, models.Employee.Title]):\n",
    "                copy_to_logic_row = logic_row.new_logic_row(models.EmployeeAudit)\n",
    "                copy_to_logic_row.link(to_parent=logic_row)\n",
    "                copy_to_logic_row.set_same_named_attributes(logic_row)\n",
    "                copy_to_logic_row.insert(reason=\"Manual Copy \" + copy_to_logic_row.name)  # => rules...\n",
    "                # logic_row.log(\"audit_by_event (Manual Copy) complete\")\n",
    "\n",
    "    Rule.commit_row_event(on_class=models.Employee, calling=audit_by_event)\n",
    "\n",
    "    RuleExtension.copy_row(copy_from=models.Employee,\n",
    "                           copy_to=models.EmployeeAudit,\n",
    "                           copy_when=lambda logic_row:\n",
    "                              logic_row.are_attributes_changed([models.Employee.Salary, models.Employee.Title]))\n",
    "```\n",
    "This illustrates 2 aspects of customization:\n",
    "1. The ```audit_by_event``` approach illustrates that you declare a rule that invokes Python code.  Observe that it is not active, per the ```tedious``` flag\n",
    "2. The alternative ```RuleExtension.copy_row``` shows a [reusable approach](https://github.com/valhuber/LogicBank/wiki/Rule-Extensibility#3-extended-rules)\n",
    "\n",
    "> **Key Takeaway:** ApiLogicServer spreadsheet-like logic is 40X more concise, and extensible with standard Python."
   ]
  },
  {
   "cell_type": "markdown",
   "metadata": {
    "pycharm": {
     "name": "#%% md\n"
    }
   },
   "source": [
    "## Customize Web App\n",
    "Around line 100, alter these lines in `ui/basic_web_app/app/views.py`for a better **related_views**:\n",
    "\n",
    "```python\n",
    "class CustomerModelView(ModelView):\n",
    "   datamodel = SQLAInterface(Customer)\n",
    "   list_columns = [\"CompanyName\", \"ContactName\", \"ContactTitle\", \"Address\", \"City\"]\n",
    "   show_columns = [\"CompanyName\", \"ContactName\", \"ContactTitle\", \"Address\", \"City\", \"Region\", \"PostalCode\", \"Country\", \"Phone\", \"Fax\", \"Balance\", \"CreditLimit\", \"OrderCount\", \"Id\", \"UnpaidOrderCount\"]\n",
    "   edit_columns = [\"CompanyName\", \"ContactName\", \"ContactTitle\", \"Address\", \"City\", \"Region\", \"PostalCode\", \"Country\", \"Phone\", \"Fax\", \"Balance\", \"CreditLimit\", \"OrderCount\", \"Id\", \"UnpaidOrderCount\"]\n",
    "   add_columns = [\"CompanyName\", \"ContactName\", \"ContactTitle\", \"Address\", \"City\", \"Region\", \"PostalCode\", \"Country\", \"Phone\", \"Fax\", \"Balance\", \"CreditLimit\", \"OrderCount\", \"Id\", \"UnpaidOrderCount\"]\n",
    "   related_views = [OrderModelView]\n",
    "\n",
    "appbuilder.add_view(\n",
    "      CustomerModelView, \"Customer List\", icon=\"fa-folder-open-o\", category=\"Menu\")\n",
    "```\n",
    "\n",
    "> Flask AppBuilder has a wide range of capabilities, including charts.  For more information, see [Flask AppBuilder](https://flask-appbuilder.readthedocs.io/en/latest/).\n",
    "\n",
    "\n",
    "> **Key Takeaway:** ApiLogicServer multi-page, multi-table apps provide instant back-office admin and agile prototyping."
   ]
  },
  {
   "cell_type": "markdown",
   "metadata": {
    "pycharm": {
     "name": "#%% md\n"
    }
   },
   "source": [
    "# ApiLogicServer Tutorial - Wrap-up\n",
    "\n",
    "You have built and executed an **ApiLogicServer**, and explored its 3 key elements:\n",
    "\n",
    "| Element | Key Takeaway   | Why It Matters  |\n",
    "| :-------------- |:--------------| :------| \n",
    "| JSON:**API**  | Created **instantly**, *customizable* | Unblock UI Development |\n",
    "| **Logic**| Spreadsheet-like rules automate the cocktail napkin spec | **40X more concise**, *customizable* with Python  |\n",
    "| Basic **Web App** | Multi-page, multi-table - created **instantly**, customizable  | Back-office admin apps, agile prototyping |"
   ]
  }
 ],
 "metadata": {
  "kernelspec": {
   "display_name": "Python 3",
   "language": "python",
   "name": "python3"
  },
  "language_info": {
   "codemirror_mode": {
    "name": "ipython",
    "version": 3
   },
   "file_extension": ".py",
   "mimetype": "text/x-python",
   "name": "python",
   "nbconvert_exporter": "python",
   "pygments_lexer": "ipython3",
   "version": "3.8.6"
  },
  "toc-autonumbering": false,
  "toc-showcode": false,
  "toc-showmarkdowntxt": false,
  "toc-showtags": false
 },
 "nbformat": 4,
 "nbformat_minor": 4
}
