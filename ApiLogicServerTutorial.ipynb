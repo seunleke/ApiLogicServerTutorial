{
 "cells": [
  {
   "cell_type": "markdown",
   "metadata": {
    "pycharm": {
     "name": "#%% md\n"
    }
   },
   "source": [
    "# Orientation\n",
    "\n",
    "There is widespread agreement that APIs are strategic to the business, required for mobile apps and internal / external systems integration.\n",
    "\n",
    "The problem is that they are time-consuming and costly to develop. This reduces strategic business agility.  At the tactical level, UI development can be delayed while awaiting API coding.\n",
    "\n",
    "API Logic Server provides strategic business agility, by creating an executable server for a database, instantly.\n",
    "\n",
    "In this 10-20 minute tutorial, we'll **create**, **explore** and **customize** the 3 main elements of an API Logic Server:\n",
    "1. A JSON:**API** for a database\n",
    "1. Business **Logic**\n",
    "1. A Basic Web App"
   ]
  },
  {
   "cell_type": "markdown",
   "metadata": {
    "pycharm": {
     "name": "#%% md\n"
    }
   },
   "source": [
    "## Configure Workspace\n",
    "\n",
    "You are in a [JupyterLab Notebook](https://jupyterlab.readthedocs.io/en/stable/).  It's a UI for a combination of markdown text and code, installed in a docker container deployed to the cloud, courtesy of MyBinder.  What will they think of next.\n",
    "\n",
    "Installation has already been completed for both\n",
    "[Python](https://github.com/valhuber/ApiLogicServer/wiki/Python-Verify-and-Install) and [ApiLogicServer](https://github.com/valhuber/ApiLogicServer#installation).\n",
    "ApiLogicServer installs with a [Northwind sample database](Sample-Database), which we'll be using in this Tutorial.\n",
    "\n",
    "Arrange your workspace:\n",
    "\n",
    "1. Open the Notebook\n",
    "1. **File > New** to open 2 **Terminal** windows\n",
    "   * **Drag** them to arrange your workspace as shown below\n",
    "2. Click the icon on the left panel to view the **Table of Contents**\n",
    "   * It should appear as shown below\n",
    "4. When you're ready, **advance:**\n",
    "   * Scroll down, or click the down arrow, or select a section at left.\n",
    "   * You can click the blue bar to the left to **hide** a section\n",
    "\n",
    "<figure><img src=\"https://github.com/valhuber/ApiLogicServer/blob/main/images/tutorial/notebook-workspace.png?raw=true\"></figure>\n",
    "\n",
    "If you are considering Jupyter notebooks for your own no-install demos,  you can explore how this demo was built on [GitHub](https://github.com/valhuber/ApiLogicServerTutorial)."
   ]
  },
  {
   "cell_type": "markdown",
   "metadata": {
    "pycharm": {
     "name": "#%% md\n"
    }
   },
   "source": [
    "# Create ApiLogicServer\n",
    "In this step, we'll use the **ApiLogicServer CLI** to create and run an **api_logic_server project** (an **API** and **Web App**, backed by underlying **Logic**):\n",
    "<figure><img src=\"https://github.com/valhuber/ApiLogicServer/blob/main/images/123-run.png?raw=true\"></figure>\n",
    "\n",
    "To create the ApiLogicServer:\n",
    "1. Paste the following into the left Terminal window to run the ApiLogicServer CLI:\n",
    "\n",
    "```bash\n",
    "ApiLogicServer run\n",
    "```\n",
    "\n",
    "2. Accept the default `Database URL` parameter to use the supplied\n",
    "[sample database](https://github.com/valhuber/ApiLogicServer/wiki/Sample-Database).\n",
    "Later, specify a [SQLAlchemy url](https://docs.sqlalchemy.org/en/14/core/engines.html)\n",
    "to use your own database.\n",
    "\n",
    "> **Key Takeaway:** With that 1 command, you have just created...\n",
    "> 1. An API endpoint for every table in the\n",
    "[sample database](https://github.com/valhuber/ApiLogicServer/wiki/Sample-Database)\n",
    "> 2. Logic that enforces integrity on updates, and\n",
    "> 3. A basic web app with list, display and update pages for every table\n",
    "\n",
    "\n",
    "> Let's explore them."
   ]
  },
  {
   "cell_type": "markdown",
   "metadata": {
    "pycharm": {
     "name": "#%% md\n"
    }
   },
   "source": [
    "# 1. Explore the API\n",
    "\n",
    "In many projects, User Interface development is blocked by waiting on API creation.\n",
    "\n",
    "The ```run``` command not only _created_ the project, but it _ran_ ```python api_logic_server/api_logic_server_run.py``` to start the server.  Let's explore it.\n",
    "\n",
    "> **Key Takeaway:** ApiLogicServer unblocks UI development with instant API creation."
   ]
  },
  {
   "cell_type": "markdown",
   "metadata": {
    "pycharm": {
     "name": "#%% md\n"
    }
   },
   "source": [
    "## Open API (Swagger)\n",
    "\n",
    "Your API can be explored with Open API (Swagger).\n",
    "If running locally, you can explore the api at [https://localhost:5000](https://localhost:5000), and:\n",
    "1. Click **Customer**\n",
    "2. Click **Get**\n",
    "3. Click **Try it out**\n",
    "4. Click **Execute**\n",
    "\n",
    "> **Under Investigation:** we are exploring using [proxy](https://discourse.jupyter.org/t/how-to-redirect-in-repo2docker-jupyter-server-proxy-mybinder-containers/5209), but not working.  You need to be running locally to see this screen:\n",
    "\n",
    "<figure><img src=\"https://github.com/valhuber/ApiLogicServer/raw/main/images/tutorial/explore-api.png\"></figure>\n"
   ]
  },
  {
   "cell_type": "markdown",
   "metadata": {
    "pycharm": {
     "name": "#%% md\n"
    }
   },
   "source": [
    "## Get\n",
    "\n",
    "In addition to Open API, we can use curl.\n",
    "\n",
    "1. Paste this into the right terminal window:\n",
    "\n",
    "```bash\n",
    "curl -X GET \"http://localhost:5000/Order\\\n",
    "?include=\\\n",
    "&fields%5BOrder%5D=Id%2CCustomerId%2CEmployeeId%2COrderDate%2CAmountTotal\\\n",
    "&page%5Boffset%5D=0\\\n",
    "&page%5Blimit%5D=2\\\n",
    "&sort=Id%2CCustomerId%2CEmployeeId\\\n",
    "&filter%5BCustomerId%5D=ALFKI\"\\\n",
    " -H  \"accept: application/vnd.api+json\" \\\n",
    " -H  \"Content-Type: application/vnd.api+json\"\n",
    "```\n",
    "Observe:\n",
    "* `page offset` - pagination support\n",
    "* `fields` - with JSON:API, clients can control their API.  That's important, since it can reduce network traffic instead of requiring calls on multiple APIs that don't return quite the correct data.\n",
    "\n",
    "Let's explore some additional aspects of the API."
   ]
  },
  {
   "cell_type": "markdown",
   "metadata": {
    "pycharm": {
     "name": "#%% md\n"
    }
   },
   "source": [
    "### Include Joins\n",
    "JSON:API also enables client to control retrieval of related data.  Let's add `include'.\n",
    "\n",
    "1. Paste this into the right Terminal window:\n",
    "\n",
    "```bash\n",
    "curl -X GET \"http://localhost:5000/Order\\\n",
    "?include=OrderDetailList\\\n",
    "&fields%5BOrder%5D=Id%2CCustomerId%2CEmployeeId%2COrderDate%2CAmountTotal\\\n",
    "&page%5Boffset%5D=0\\\n",
    "&page%5Blimit%5D=2\\\n",
    "&sort=Id%2CCustomerId%2CEmployeeId\\\n",
    "&filter%5BCustomerId%5D=ALFKI\"\\\n",
    " -H  \"accept: application/vnd.api+json\" \\\n",
    " -H  \"Content-Type: application/vnd.api+json\"\n",
    "```\n",
    "\n",
    "Observe that response contains `\"included\": [` - the list of related `OrderDetail` records.\n",
    "\n",
    "### Filtering, Pagination\n",
    "You can also explore support for these required services.\n"
   ]
  },
  {
   "cell_type": "markdown",
   "metadata": {
    "pycharm": {
     "name": "#%% md\n"
    }
   },
   "source": [
    "## Patch: Logic Enabled Updates\n",
    "Your API also includes services for insert, update and delete. We can use curl to test the update.\n",
    "\n",
    "1. Paste the following into the right Terminal window, and observe the expected failure response:\n",
    "\n",
    "```bash\n",
    "curl -vX PATCH \"http://localhost:5000/Customer/ALFKI/\" -H  \"accept: application/vnd.api+json\" -H  \"Content-Type: application/json\"  -d '\n",
    "{\n",
    "  \"data\": {\n",
    "     \"attributes\": {\n",
    "        \"CreditLimit\": \"100\"\n",
    "     },\n",
    "  \"type\": \"Customer\",\n",
    "  \"id\": \"ALFKI\"\n",
    "}}'\n",
    "```\n",
    "\n",
    "2. This update request violates our predefined rules so it will return an error:\n",
    "\n",
    "```bash\n",
    "balance (1016.0000000000) exceeds credit (100)\n",
    "```\n",
    "\n",
    "This was entirely intentional, to illustrate the transaction logic underlying the API.  Let's explore that."
   ]
  },
  {
   "cell_type": "markdown",
   "metadata": {
    "pycharm": {
     "name": "#%% md\n"
    }
   },
   "source": [
    "# 2. Explore Logic\n",
    "Transaction logic - multi-table derivations, constraints,\n",
    "and actions such as sending mail or messages - is a significant\n",
    "aspect of any database oriented system, as much as half.\n",
    "\n",
    "> Logic is the iceberg under the surface of the API."
   ]
  },
  {
   "cell_type": "markdown",
   "metadata": {
    "pycharm": {
     "name": "#%% md\n"
    }
   },
   "source": [
    "## Cocktail Napkin Explosion\n",
    "\n",
    "It is striking how a small \"cocktail napkin specification\" can balloon into\n",
    "hundreds of lines of code:\n",
    "\n",
    "<figure><img src=\"https://github.com/valhuber/LogicBank/raw/main/images/overview/rules-vs-code.png\"></figure>\n",
    "\n",
    "> Implementing logic by conventional *procedural code is slow, error prone, and painful to maintain.*"
   ]
  },
  {
   "cell_type": "markdown",
   "metadata": {
    "pycharm": {
     "name": "#%% md\n"
    }
   },
   "source": [
    "## Logic is _Declarative_\n",
    "\n",
    "Api Logic Server dramatically improves conciseness, quality and maintainability, by introducing a signicant innovation for addressing transaction logic: **Logic Bank**.  This approach is based on two things:\n",
    "\n",
    "* **Rules - 40X** more concise using a declarative, spreadsheet-like paradigm, and\n",
    "\n",
    "* **Python - control and extensibility,** using standard tools and techniques\n",
    "\n",
    "**Note:** in this tutorial, the API and Web App were created strictly from the data model.\n",
    "The logic, however, is injected so you can explore it.\n",
    "\n",
    "Rules are _not_ simply procedural event handlers.  They are spreadsheet-like expressions for\n",
    "constraints and derivations applied on update.  The \"cocktail napkin spec\" above is implemented\n",
    "in ```logic/logic_bank.py```, by declaring just 5 rules instead of hundreds of lines of code.\n",
    "Note the rules are simply rigorous expressions of the spec:\n",
    "\n",
    "<figure><img src=\"https://github.com/valhuber/ApiLogicServer/raw/main/images/tutorial/declare-logic.png\"></figure>\n",
    "\n",
    "This table summarizes the **key declarative / procedural differences:**\n",
    "\n",
    "| Characteristic | Procedural   | Declarative  | Why It Matters |\n",
    "| :-------------: |:-------------:| :-----:| :-----:|\n",
    "| Reuse     | Not Automatic | Automatic - all Use Cases | 40X Code Reduction |\n",
    "| Invocation | Passive - only if called | Active - call not required | Quality |\n",
    "| Ordering | Manual | Automatic | Agile Maintenance |\n",
    "| Optimizations      | Manual     |   Automatic | Agile Design |\n",
    "\n",
    "Unlike code, you do not call the rules directly.\n",
    "The rules engine in Logic Bank listens for SQLAlchemy ```before_flush``` events,\n",
    "and applies the applicable rules in an order that reflects their dependencies.  For more\n",
    "information on rules, see the [Logic Bank Overview](https://github.com/valhuber/LogicBank/wiki).\n",
    "\n",
    "The constraint rule (line 52, above) is what caused the update error response above -\n",
    "the ```Balance``` exceeded the altered ```CreditLimit```.  The transaction is rolled back.\n",
    "\n",
    "```python\n",
    "    Rule.constraint(validate=models.Customer,\n",
    "                    as_condition=lambda row: row.Balance <= row.CreditLimit,\n",
    "                    error_msg=\"balance ({row.Balance}) exceeds credit ({row.CreditLimit})\")\n",
    "```"
   ]
  },
  {
   "cell_type": "markdown",
   "metadata": {
    "pycharm": {
     "name": "#%% md\n"
    }
   },
   "source": [
    "### Perspective: 40X\n",
    "Let's pause for some perspective: *what is **40X** more concise?*\n",
    "\n",
    "A jetliner flies *4X* the speed of Charles Lindbergh's Spirit of St. Louis.  A scram jet is another 10X.  Scram jet vs. Linderbergh is 40X - the same as the degree of abstraction of procedural logic vs. spreadsheet-like rules.\n",
    "\n",
    "So, for nearly half your system, you are writing a rule instead of nearly a page of code. See the [contrast here](https://github.com/valhuber/LogicBank/wiki/by-code).\n",
    "\n",
    "<figure><img src=\"https://github.com/valhuber/ApiLogicServer/raw/main/images/tutorial/technology-matters.png\"></figure>"
   ]
  },
  {
   "cell_type": "markdown",
   "metadata": {
    "pycharm": {
     "name": "#%% md\n"
    }
   },
   "source": [
    "## _Automatic_ Re-use\n",
    "Let's examine the re-use aspect.  In traditional procedural coding, re-use is generally achieved with significant design work.  But in this declarative approach, logic is _automatically **re-used**_ for all transactions.  That has a significant impact on conciseness, and quality.\n",
    "\n",
    "Let's see how our logic processes a PATCH to an Order Detail:\n",
    "\n",
    "```bash\n",
    "curl -X PATCH \"http://localhost:5000/OrderDetail/2156/\" \\\n",
    "  -H  \"accept: application/vnd.api+json\" \\\n",
    "  -H  \"Content-Type: application/json\" \\\n",
    "  -d '\n",
    "{\n",
    "  \"data\":{\n",
    "    \"attributes\": {\"Quantity\": 10},\n",
    "    \"type\": \"OrderDetail\",\n",
    "    \"id\": \"2156\"  \n",
    "  }\n",
    "}'\n",
    "```\n",
    "\n",
    "The rule engine generates a\n",
    "[*log*](https://github.com/valhuber/LogicBank/wiki#debugging-standard-debugger-logic-logging)\n",
    "showing each rule that fires, the state of the row, with indenting to show rule chaining.  It's in your Terminal console, but easier to see in an editor with disabled Word Wrap:\n",
    "\n",
    "1. Choose the Folder icon on the toolbar to the left\n",
    "2. Open the file `ApiLogicServerTutorial/Log - Patch Order Detail.txt`\n",
    "3. From the view menu, disable Word Wrap\n",
    "\n",
    "The rules automated a multi-table rollup transaction:\n",
    "* recompute the Order Detail ```Amount``` per the _formula_ rule (line 60)\n",
    "* adjust the Order ```AmountTotal``` (line 58)\n",
    "* adjust the Customer ```Balance``` (line 55)\n",
    "* and check the ```CreditLimit```\n",
    "\n",
    "> **Key Takeaway:** Logic is 40X more concise, higher quality, and easier to maintain than legacy procedural code."
   ]
  },
  {
   "cell_type": "markdown",
   "metadata": {
    "pycharm": {
     "name": "#%% md\n"
    }
   },
   "source": [
    "# 3. Explore the Basic Web App\n",
    "\n",
    "UI development takes time.  That's a problem since:\n",
    "* Such effort may not be warranted for admin \"back office\" screens,\n",
    "and\n",
    "  \n",
    "* [Agile approaches](https://agilemanifesto.org) depend on getting _working\n",
    "software_ soon, to drive _collaboration and iteration_.\n",
    "\n",
    "ApiLogicServer CLI therefore creates working software _now:_\n",
    "multi-page, multi-table applications as shown below:\n",
    "\n",
    "1. **Multi-page:** apps include 1 page per table\n",
    "\n",
    "2. **Multi-table:** pages include ``related_views`` for each related child table, and join in parent data\n",
    "\n",
    "3. **Favorite fields first:** first-displayed field is \"name\", or `contains` \"name\" (configurable)\n",
    "\n",
    "4. **Predictive joins:** favorite field of each parent is shown (product *name* - not product *id*)\n",
    "\n",
    "5. **Ids last:** such boring fields are not shown on lists, and at the end on other pages\n",
    "\n",
    "<figure><img src=\"https://raw.githubusercontent.com/valhuber/fab-quick-start/master/images/generated-page.png\"></figure>\n",
    "\n",
    "If running locally, start the application:\n",
    "```\n",
    "cd ApiLogicServer/api_logic_server\n",
    "python ui/basic_web_app/run.py\n",
    "```\n",
    "\n",
    "> Before running, you must [Create Admin Data](Working-with-Flask-AppBuilder) for Flask App Builder (except for Northwind, which is pre-created)."
   ]
  },
  {
   "cell_type": "markdown",
   "metadata": {
    "pycharm": {
     "name": "#%% md\n"
    }
   },
   "source": [
    "# Customize With Python\n",
    "\n",
    "Recall using API Logic Server CLI:\n",
    "```\n",
    "ApiLogicServer run\n",
    "```\n",
    "created a complete, executable ApiLogicServer in a directory called ```api_logic_server```.  On your own machine, you could open the project in an IDE (PyCharm, VSCode, etc) or an Editor (Atom, Text Wrangler, etc).  It looks like this in PyCharm:\n",
    "\n",
    "<figure><img src=\"https://github.com/valhuber/ApiLogicServer/blob/main/images/generated-project.png?raw=true\"></figure>\n",
    "\n",
    "As noted in the log (in blue, above), ApiLogicServer CLI introspected your database and created a `database/models.py` file (for SQLAlchemy), and files that declare your `api` and `ui/basic-web-app`.  You can edit those files to customize your server, as described below."
   ]
  },
  {
   "cell_type": "markdown",
   "metadata": {
    "pycharm": {
     "name": "#%% md\n"
    }
   },
   "source": [
    "## Customize API\n",
    "Your API is derived from the database, but it is not restricted to that.  You can customize your API, e.g., add new endpoints.\n",
    "\n",
    "For example - an instant API for a database is all well and good - but can we build the \"hello world\" so desperately sought by enterprises all over the world?  We can.\n",
    "\n",
    "Examine the following code in `api_logic_server/api_logic_server_run.py`:\n",
    "\n",
    "```python\n",
    "@app.route('/hello_world')\n",
    "def hello_world():  # test it with: http://localhost:5000/hello_world?user=ApiLogicServer\n",
    "    \"\"\"\n",
    "    This is inserted to illustrate that APIs not limited to database objects, but are extensible.\n",
    "\n",
    "    See: https://github.com/thomaxxl/safrs/wiki/Customization\n",
    "    \"\"\"\n",
    "    user = request.args.get('user')\n",
    "    return jsonify({\"result\": f'hello, {user}',\n",
    "                    \"notice\": f'add your own endpoints with python'})\n",
    "```\n",
    "You can run this with curl:\n",
    "```bash\n",
    "curl -X GET \"http://localhost:5000/hello_world?user=ApiLogicServer\"\n",
    "```"
   ]
  },
  {
   "cell_type": "markdown",
   "metadata": {
    "pycharm": {
     "name": "#%% md\n"
    }
   },
   "source": [
    "## Customize Logic\n",
    "\n",
    "Use Python to customize logic.  Let's alter an Employees salary:\n",
    "\n",
    "1. Paste the following into the right Terminal window:\n",
    "\n",
    "```bash\n",
    "curl -X PATCH \"http://localhost:5000/Employee/1/\"\\\n",
    " -H  \"accept: application/vnd.api+json\"\\\n",
    "  -H  \"Content-Type: application/json\" -d \"{  \\\"data\\\": {\\\n",
    "      \\\"attributes\\\": {      \\\"Salary\\\": \\\"90000\\\"    },\\\n",
    "          \\\"type\\\": \\\"Employee\\\",    \\\"id\\\": \\\"1\\\"  }}\"\n",
    "```\n",
    "2. Observe the intentional failure, since Northwind's business policy is that\n",
    "raises must exceed 20% (no doubt your organization has similar policies).\n",
    "\n",
    "The expected error is implemented in ```logic/rules_bank.py```, where our constraint\n",
    "rule invokes a Python function `raise_over_20_percent()`.  Modern IDEs (e.g., PyCharm)\n",
    "provide code completion and debugging for such logic:\n",
    "\n",
    "```python\n",
    "    def raise_over_20_percent(row: models.Employee, old_row: models.Employee, logic_row: LogicRow):\n",
    "        if logic_row.ins_upd_dlt == \"upd\" and row.Salary != old_row.Salary:\n",
    "            return row.Salary >= Decimal('1.20') * old_row.Salary\n",
    "        else:\n",
    "            return True\n",
    "\n",
    "    Rule.constraint(validate=models.Employee,\n",
    "                    calling=raise_over_20_percent,\n",
    "                    error_msg=\"{row.LastName} needs a more meaningful raise\")\n",
    "```\n",
    "This illustrates that you can\n",
    "[leverage the full power of Python](https://github.com/valhuber/LogicBank/wiki/Rule-Extensibility)\n",
    "for more complex constraints, as well as other logic such as formulas, events, etc.\n",
    "\n",
    "> **Key Takeaway:** ApiLogicServer spreadsheet-like logic is extensible with standard Python."
   ]
  },
  {
   "cell_type": "markdown",
   "metadata": {
    "pycharm": {
     "name": "#%% md\n"
    }
   },
   "source": [
    "## Customize Web App\n",
    "The Basic Web App is driven by `ui/basic_web_app/app/views.py`, which contains classes like this for each table:\n",
    "\n",
    "```python\n",
    "class CustomerModelView(ModelView):\n",
    "   datamodel = SQLAInterface(Customer)\n",
    "   list_columns = [\"CompanyName\", \"ContactName\", \"ContactTitle\", \"Address\", \"City\"]\n",
    "   show_columns = [\"CompanyName\", \"ContactName\", \"ContactTitle\", \"Address\", \"City\", \"Region\", \"PostalCode\", \"Country\", \"Phone\", \"Fax\", \"Balance\", \"CreditLimit\", \"OrderCount\", \"Id\", \"UnpaidOrderCount\"]\n",
    "   edit_columns = [\"CompanyName\", \"ContactName\", \"ContactTitle\", \"Address\", \"City\", \"Region\", \"PostalCode\", \"Country\", \"Phone\", \"Fax\", \"Balance\", \"CreditLimit\", \"OrderCount\", \"Id\", \"UnpaidOrderCount\"]\n",
    "   add_columns = [\"CompanyName\", \"ContactName\", \"ContactTitle\", \"Address\", \"City\", \"Region\", \"PostalCode\", \"Country\", \"Phone\", \"Fax\", \"Balance\", \"CreditLimit\", \"OrderCount\", \"Id\", \"UnpaidOrderCount\"]\n",
    "   related_views = [OrderModelView]\n",
    "\n",
    "appbuilder.add_view(\n",
    "      CustomerModelView, \"Customer List\", icon=\"fa-folder-open-o\", category=\"Menu\")\n",
    "```\n",
    "\n",
    "You can edit this file to control what columns are displayed, their display order, and what related data (views) are shown.\n",
    "\n",
    "> Flask AppBuilder has a wide range of capabilities, including charts.  For more information, see [Flask AppBuilder](https://flask-appbuilder.readthedocs.io/en/latest/).\n",
    "\n",
    "\n",
    "> **Key Takeaway:** ApiLogicServer multi-page, multi-table apps provide instant back-office admin and agile prototyping."
   ]
  },
  {
   "cell_type": "markdown",
   "metadata": {
    "pycharm": {
     "name": "#%% md\n"
    }
   },
   "source": [
    "# ApiLogicServer Tutorial - Wrap-up\n",
    "\n",
    "In **20 minutes - instead of weeks or months** - you have built and executed an **ApiLogicServer**, and explored its 3 key elements:\n",
    "\n",
    "\n",
    "| Element | Key Takeaway   | Why It Matters  |\n",
    "| :-------------- |:--------------| :------| \n",
    "| JSON:**API**  | Created **instantly**, *customizable* | Unblock UI Development |\n",
    "| **Logic**| Spreadsheet-like rules automate the cocktail napkin spec | **40X more concise**, *customizable* with Python  |\n",
    "| Basic **Web App** | Multi-page, multi-table - created **instantly**, customizable  | Back-office admin apps, agile prototyping |"
   ]
  }
 ],
 "metadata": {
  "kernelspec": {
   "display_name": "Python 3",
   "language": "python",
   "name": "python3"
  },
  "language_info": {
   "codemirror_mode": {
    "name": "ipython",
    "version": 3
   },
   "file_extension": ".py",
   "mimetype": "text/x-python",
   "name": "python",
   "nbconvert_exporter": "python",
   "pygments_lexer": "ipython3",
   "version": "3.8.6"
  },
  "toc-autonumbering": false,
  "toc-showcode": false,
  "toc-showmarkdowntxt": false,
  "toc-showtags": false
 },
 "nbformat": 4,
 "nbformat_minor": 4
}
